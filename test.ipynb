{
 "cells": [
  {
   "cell_type": "markdown",
   "metadata": {},
   "source": [
    "## Scrapping Comments"
   ]
  },
  {
   "cell_type": "code",
   "execution_count": 1,
   "metadata": {},
   "outputs": [],
   "source": [
    "import re"
   ]
  },
  {
   "cell_type": "code",
   "execution_count": 2,
   "metadata": {},
   "outputs": [],
   "source": [
    "from googleapiclient.discovery import build\n",
    "from googleapiclient.errors import HttpError\n",
    "import pandas as pd"
   ]
  },
  {
   "cell_type": "code",
   "execution_count": 17,
   "metadata": {},
   "outputs": [],
   "source": [
    "def getYoutubeVideoId(url : str = \"\") -> str:\n",
    "    \"\"\"\n",
    "    Extract video id from youtube url\n",
    "    Args\n",
    "        url (str) : youtube url\n",
    "    Return\n",
    "        video_id (str) : video_id\n",
    "    \"\"\"\n",
    "       # Check for various YouTube URL formats\n",
    "    regex = \"^((?:https?:)?\\/\\/)?((?:www|m)\\.)?((?:youtube(?:-nocookie)?\\.com|youtu.be))(\\/(?:[\\w\\-]+\\?v=|embed\\/|live\\/|v\\/)?)([\\w\\-]+)(\\S+)?$\"\n",
    "    \n",
    "    match = re.search(regex, url)\n",
    "    \n",
    "    if match:\n",
    "        return match.group(5)  # Returns the video ID\n",
    "    else:\n",
    "        return None\n",
    "    \n",
    "# function to get comments from the youtube url\n",
    "def scrapeYoutube(api_key : str, url : str, save_loc : str = \"./data/comments.csv\") -> None:\n",
    "    \"\"\"\n",
    "    Go youtube url, scrape the comments and save it in save_loc\n",
    "    Args\n",
    "        api_key : youtube scrapper api key\n",
    "        url : youtube url\n",
    "        save_loc : location to save the comments   \n",
    "    \"\"\"\n",
    "    assert type(api_key) == str, \"api key should be string\"\n",
    "    assert type(url) == str, \"url should be string\"\n",
    "    assert type(save_loc) == str, \"save location should be string\"\n",
    "\n",
    "    # request youtube url\n",
    "    video_id = getYoutubeVideoId(url)\n",
    "    comments = getComments(video_id, api_key)\n",
    "    save_loc = f\"./data/comments_{video_id}.csv\"\n",
    "    # save comments\n",
    "    saveComment(comments, save_loc)\n",
    "\n",
    "\n",
    "def getComments(video_id : str, api_key : str, part : str = \"snippet\", max_results : int = 10000) -> list[dict]:\n",
    "    \"\"\"\n",
    "    # Get comments from the url\n",
    "    Arg\\n\n",
    "        video_id (str) : youtube video id\n",
    "        part (str)\n",
    "        max_results (int)\n",
    "    Return\\n\n",
    "        comments (list) : list of comments\n",
    "    \"\"\"\n",
    "    # get comments\n",
    "    youtube = build(\"youtube\", \"v3\", developerKey=api_key)\n",
    "    try:\n",
    "        # Retrieve comment thread using the youtube.commentThreads().list() method\n",
    "        response = youtube.commentThreads().list(\n",
    "            part=part,\n",
    "            videoId=video_id,\n",
    "            textFormat=\"plainText\",\n",
    "            maxResults=max_results\n",
    "        ).execute()\n",
    "\n",
    "        comments = []\n",
    "        for item in response[\"items\"]:\n",
    "            comment_text = item[\"snippet\"][\"topLevelComment\"][\"snippet\"][\"textDisplay\"]\n",
    "            likes = item[\"snippet\"][\"topLevelComment\"][\"snippet\"][\"likeCount\"]\n",
    "            comments.append({\"comment\": comment_text, \"num_of_likes\": likes})\n",
    "\n",
    "        return comments\n",
    "    \n",
    "    except HttpError as error:\n",
    "        print(f\"An HTTP error {error.http_status} occurred:\\n {error.content}\")\n",
    "        return None\n",
    "    \n",
    "def saveComment(comments : list[dict], save_loc : str):\n",
    "    if comments:\n",
    "        # Create a pandas dataframe from the comments list\n",
    "        df = pd.DataFrame(comments)\n",
    "\n",
    "        # Sort dataframe by number of likes in descending order\n",
    "        df = df.sort_values(by=['num_of_likes'], ascending=False)\n",
    "\n",
    "        # Print a preview of the first 10 rows\n",
    "        print(df.head(10))\n",
    "\n",
    "        # Export dataframe to a CSV file named \"comments.csv\"\n",
    "        df.to_csv(save_loc, index=False)\n",
    "    else:\n",
    "        print(\"Error: Could not retrieve comments from video.\")"
   ]
  },
  {
   "cell_type": "code",
   "execution_count": 19,
   "metadata": {},
   "outputs": [
    {
     "data": {
      "text/plain": [
       "'DFYRQ_zQ-gk'"
      ]
     },
     "execution_count": 19,
     "metadata": {},
     "output_type": "execute_result"
    }
   ],
   "source": [
    "getYoutubeVideoId(\"youtube.com/embed/DFYRQ_zQ-gk\")"
   ]
  },
  {
   "cell_type": "code",
   "execution_count": 7,
   "metadata": {},
   "outputs": [],
   "source": [
    "from dotenv import load_dotenv\n",
    "import os"
   ]
  },
  {
   "cell_type": "code",
   "execution_count": 8,
   "metadata": {},
   "outputs": [],
   "source": [
    "load_dotenv()\n",
    "api_key = os.getenv(\"YOUTUBE_SCRAPE_KEY\")"
   ]
  },
  {
   "cell_type": "code",
   "execution_count": 9,
   "metadata": {},
   "outputs": [],
   "source": [
    "url = \"https://www.youtube.com/watch?v=e-ORhEE9VVg\"\n",
    "video_id = getYoutubeVideoId(url)"
   ]
  },
  {
   "cell_type": "code",
   "execution_count": 10,
   "metadata": {},
   "outputs": [],
   "source": [
    "comments = getComments(video_id, api_key)"
   ]
  },
  {
   "cell_type": "code",
   "execution_count": 11,
   "metadata": {},
   "outputs": [
    {
     "data": {
      "text/html": [
       "<div>\n",
       "<style scoped>\n",
       "    .dataframe tbody tr th:only-of-type {\n",
       "        vertical-align: middle;\n",
       "    }\n",
       "\n",
       "    .dataframe tbody tr th {\n",
       "        vertical-align: top;\n",
       "    }\n",
       "\n",
       "    .dataframe thead th {\n",
       "        text-align: right;\n",
       "    }\n",
       "</style>\n",
       "<table border=\"1\" class=\"dataframe\">\n",
       "  <thead>\n",
       "    <tr style=\"text-align: right;\">\n",
       "      <th></th>\n",
       "      <th>comment</th>\n",
       "      <th>num_of_likes</th>\n",
       "    </tr>\n",
       "  </thead>\n",
       "  <tbody>\n",
       "    <tr>\n",
       "      <th>86</th>\n",
       "      <td>Anyone in October 2024?😎</td>\n",
       "      <td>5</td>\n",
       "    </tr>\n",
       "    <tr>\n",
       "      <th>40</th>\n",
       "      <td>Taylor swift perfect  cinderela  ❤</td>\n",
       "      <td>2</td>\n",
       "    </tr>\n",
       "    <tr>\n",
       "      <th>94</th>\n",
       "      <td>times may change but memories and emotions att...</td>\n",
       "      <td>2</td>\n",
       "    </tr>\n",
       "    <tr>\n",
       "      <th>3</th>\n",
       "      <td>Someone october 2024?</td>\n",
       "      <td>1</td>\n",
       "    </tr>\n",
       "    <tr>\n",
       "      <th>23</th>\n",
       "      <td>Who else is listening to this in the year 2052??</td>\n",
       "      <td>1</td>\n",
       "    </tr>\n",
       "    <tr>\n",
       "      <th>...</th>\n",
       "      <td>...</td>\n",
       "      <td>...</td>\n",
       "    </tr>\n",
       "    <tr>\n",
       "      <th>92</th>\n",
       "      <td>i thought no comments would be from this year ...</td>\n",
       "      <td>0</td>\n",
       "    </tr>\n",
       "    <tr>\n",
       "      <th>95</th>\n",
       "      <td>So amazing</td>\n",
       "      <td>0</td>\n",
       "    </tr>\n",
       "    <tr>\n",
       "      <th>96</th>\n",
       "      <td>Taylor is my age, it says alot that i dont kno...</td>\n",
       "      <td>0</td>\n",
       "    </tr>\n",
       "    <tr>\n",
       "      <th>98</th>\n",
       "      <td>Oi</td>\n",
       "      <td>0</td>\n",
       "    </tr>\n",
       "    <tr>\n",
       "      <th>99</th>\n",
       "      <td>Wow</td>\n",
       "      <td>0</td>\n",
       "    </tr>\n",
       "  </tbody>\n",
       "</table>\n",
       "<p>100 rows × 2 columns</p>\n",
       "</div>"
      ],
      "text/plain": [
       "                                              comment  num_of_likes\n",
       "86                           Anyone in October 2024?😎             5\n",
       "40                 Taylor swift perfect  cinderela  ❤             2\n",
       "94  times may change but memories and emotions att...             2\n",
       "3                               Someone october 2024?             1\n",
       "23   Who else is listening to this in the year 2052??             1\n",
       "..                                                ...           ...\n",
       "92  i thought no comments would be from this year ...             0\n",
       "95                                         So amazing             0\n",
       "96  Taylor is my age, it says alot that i dont kno...             0\n",
       "98                                                 Oi             0\n",
       "99                                                Wow             0\n",
       "\n",
       "[100 rows x 2 columns]"
      ]
     },
     "execution_count": 11,
     "metadata": {},
     "output_type": "execute_result"
    }
   ],
   "source": [
    "df = pd.DataFrame(comments)\n",
    "df.sort_values(by=['num_of_likes'], ascending=False)"
   ]
  },
  {
   "cell_type": "code",
   "execution_count": 12,
   "metadata": {},
   "outputs": [
    {
     "name": "stdout",
     "output_type": "stream",
     "text": [
      "<class 'pandas.core.frame.DataFrame'>\n",
      "RangeIndex: 100 entries, 0 to 99\n",
      "Data columns (total 2 columns):\n",
      " #   Column        Non-Null Count  Dtype \n",
      "---  ------        --------------  ----- \n",
      " 0   comment       100 non-null    object\n",
      " 1   num_of_likes  100 non-null    int64 \n",
      "dtypes: int64(1), object(1)\n",
      "memory usage: 1.7+ KB\n"
     ]
    }
   ],
   "source": [
    "df.info()"
   ]
  },
  {
   "cell_type": "code",
   "execution_count": 13,
   "metadata": {},
   "outputs": [],
   "source": [
    "youtube = build(\"youtube\", \"v3\", developerKey=api_key)\n",
    "response = youtube.commentThreads().list(\n",
    "    part=\"snippet\",\n",
    "    videoId=video_id,\n",
    "    textFormat=\"plainText\",\n",
    "    maxResults=100\n",
    ").execute()"
   ]
  },
  {
   "cell_type": "code",
   "execution_count": 14,
   "metadata": {},
   "outputs": [
    {
     "ename": "AttributeError",
     "evalue": "'function' object has no attribute 'list'",
     "output_type": "error",
     "traceback": [
      "\u001b[1;31m---------------------------------------------------------------------------\u001b[0m",
      "\u001b[1;31mAttributeError\u001b[0m                            Traceback (most recent call last)",
      "Cell \u001b[1;32mIn[14], line 1\u001b[0m\n\u001b[1;32m----> 1\u001b[0m \u001b[43myoutube\u001b[49m\u001b[38;5;241;43m.\u001b[39;49m\u001b[43mcommentThreads\u001b[49m\u001b[38;5;241;43m.\u001b[39;49m\u001b[43mlist\u001b[49m()\n",
      "\u001b[1;31mAttributeError\u001b[0m: 'function' object has no attribute 'list'"
     ]
    }
   ],
   "source": [
    "youtube.commentThreads.list()"
   ]
  },
  {
   "cell_type": "code",
   "execution_count": null,
   "metadata": {},
   "outputs": [],
   "source": [
    "def load_comments(match):\n",
    "    for item in match[\"items\"]:\n",
    "        comment = item[\"snippet\"][\"topLevelComment\"]\n",
    "        author = comment[\"snippet\"][\"authorDisplayName\"]\n",
    "        text = comment[\"snippet\"][\"textDisplay\"]\n",
    "        print(\"Comment by {}: {}\".format(author, text))\n",
    "        if 'replies' in item.keys():\n",
    "            for reply in item['replies']['comments']:\n",
    "                rauthor = reply['snippet']['authorDisplayName']\n",
    "                rtext = reply[\"snippet\"][\"textDisplay\"]\n",
    "            print(\"\\n\\tReply by {}: {}\".format(rauthor, rtext), \"\\n\")\n",
    "\n",
    "def get_comment_threads(youtube, video_id):\n",
    "    results = youtube.commentThreads().list(\n",
    "        part=\"snippet\",\n",
    "        maxResults=100,\n",
    "        videoId=video_id,\n",
    "        textFormat=\"plainText\"\n",
    "    ).execute()\n",
    "    return results\n",
    "\n",
    "url = \"https://www.youtube.com/watch?v=e-ORhEE9VVg\"\n",
    "video_id = getYoutubeVideoId(url)\n",
    "youtube = build(\"youtube\", \"v3\", developerKey=api_key)\n",
    "match = get_comment_threads(youtube, video_id)\n",
    "next_page_token = match[\"nextPageToken\"]\n",
    "load_comments(match)\n",
    "iter = 0\n",
    "while next_page_token or iter > 2:\n",
    "    match = get_comment_threads(youtube, video_id)\n",
    "    next_page_token = match[\"nextPageToken\"]\n",
    "    load_comments(match)\n",
    "    iter += 1"
   ]
  },
  {
   "cell_type": "code",
   "execution_count": null,
   "metadata": {},
   "outputs": [],
   "source": []
  }
 ],
 "metadata": {
  "kernelspec": {
   "display_name": "env",
   "language": "python",
   "name": "python3"
  },
  "language_info": {
   "codemirror_mode": {
    "name": "ipython",
    "version": 3
   },
   "file_extension": ".py",
   "mimetype": "text/x-python",
   "name": "python",
   "nbconvert_exporter": "python",
   "pygments_lexer": "ipython3",
   "version": "3.10.0"
  }
 },
 "nbformat": 4,
 "nbformat_minor": 2
}
